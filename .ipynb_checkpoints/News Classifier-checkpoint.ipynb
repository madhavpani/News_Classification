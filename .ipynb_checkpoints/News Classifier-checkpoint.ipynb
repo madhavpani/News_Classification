{
 "cells": [
  {
   "cell_type": "markdown",
   "id": "3801719a-78f0-4bd0-b70e-78adb73aa0e1",
   "metadata": {},
   "source": [
    "## News Classifier "
   ]
  },
  {
   "cell_type": "code",
   "execution_count": 3,
   "id": "39484c6a-762c-4b72-b337-b77a39c0760a",
   "metadata": {},
   "outputs": [],
   "source": [
    "# lets import the libraries\n",
    "import pandas as pd\n",
    "import numpy as np\n",
    "import matplotlib.pyplot as plt\n",
    "import seaborn as sns"
   ]
  },
  {
   "cell_type": "markdown",
   "id": "92adf38b-abbd-420c-87a3-83a8991d348b",
   "metadata": {},
   "source": [
    "## Dataset Loading"
   ]
  },
  {
   "cell_type": "code",
   "execution_count": 4,
   "id": "044cf3fe-0895-4581-8bad-15ea8e7f94d1",
   "metadata": {},
   "outputs": [],
   "source": [
    "# lets load all the datasets\n",
    "news1 = pd.read_csv('inshort_news_data-1.csv')\n",
    "news2 = pd.read_csv('inshort_news_data-2.csv')\n",
    "news3 = pd.read_csv('inshort_news_data-3.csv')\n",
    "news4 = pd.read_csv('inshort_news_data-4.csv')\n",
    "news5 = pd.read_csv('inshort_news_data-5.csv')\n",
    "news6 = pd.read_csv('inshort_news_data-6.csv')\n",
    "news7 = pd.read_csv('inshort_news_data-7.csv')"
   ]
  },
  {
   "cell_type": "code",
   "execution_count": 5,
   "id": "8cda18a0-53e4-4571-b0be-648e8eaa25da",
   "metadata": {},
   "outputs": [
    {
     "data": {
      "text/html": [
       "<div>\n",
       "<style scoped>\n",
       "    .dataframe tbody tr th:only-of-type {\n",
       "        vertical-align: middle;\n",
       "    }\n",
       "\n",
       "    .dataframe tbody tr th {\n",
       "        vertical-align: top;\n",
       "    }\n",
       "\n",
       "    .dataframe thead th {\n",
       "        text-align: right;\n",
       "    }\n",
       "</style>\n",
       "<table border=\"1\" class=\"dataframe\">\n",
       "  <thead>\n",
       "    <tr style=\"text-align: right;\">\n",
       "      <th></th>\n",
       "      <th>index</th>\n",
       "      <th>Unnamed: 0</th>\n",
       "      <th>news_headline</th>\n",
       "      <th>news_article</th>\n",
       "      <th>news_category</th>\n",
       "    </tr>\n",
       "  </thead>\n",
       "  <tbody>\n",
       "    <tr>\n",
       "      <th>0</th>\n",
       "      <td>0</td>\n",
       "      <td>0</td>\n",
       "      <td>50-year-old problem of biology solved by Artif...</td>\n",
       "      <td>DeepMind's AI system 'AlphaFold' has been reco...</td>\n",
       "      <td>technology</td>\n",
       "    </tr>\n",
       "    <tr>\n",
       "      <th>1</th>\n",
       "      <td>1</td>\n",
       "      <td>1</td>\n",
       "      <td>Microsoft Teams to stop working on Internet Ex...</td>\n",
       "      <td>Microsoft Teams will stop working on Internet ...</td>\n",
       "      <td>technology</td>\n",
       "    </tr>\n",
       "    <tr>\n",
       "      <th>2</th>\n",
       "      <td>2</td>\n",
       "      <td>2</td>\n",
       "      <td>Hope US won't erect barriers to cooperation: C...</td>\n",
       "      <td>China, in response to reports of US adding Chi...</td>\n",
       "      <td>technology</td>\n",
       "    </tr>\n",
       "    <tr>\n",
       "      <th>3</th>\n",
       "      <td>3</td>\n",
       "      <td>3</td>\n",
       "      <td>Global smartphone sales in Q3 falls 5.7% to 36...</td>\n",
       "      <td>The global smartphone sales in the third quart...</td>\n",
       "      <td>technology</td>\n",
       "    </tr>\n",
       "    <tr>\n",
       "      <th>4</th>\n",
       "      <td>4</td>\n",
       "      <td>4</td>\n",
       "      <td>EU hoping Biden will clarify US position on di...</td>\n",
       "      <td>The European Union (EU) is hoping that US Pres...</td>\n",
       "      <td>technology</td>\n",
       "    </tr>\n",
       "  </tbody>\n",
       "</table>\n",
       "</div>"
      ],
      "text/plain": [
       "   index  Unnamed: 0                                      news_headline  \\\n",
       "0      0           0  50-year-old problem of biology solved by Artif...   \n",
       "1      1           1  Microsoft Teams to stop working on Internet Ex...   \n",
       "2      2           2  Hope US won't erect barriers to cooperation: C...   \n",
       "3      3           3  Global smartphone sales in Q3 falls 5.7% to 36...   \n",
       "4      4           4  EU hoping Biden will clarify US position on di...   \n",
       "\n",
       "                                        news_article news_category  \n",
       "0  DeepMind's AI system 'AlphaFold' has been reco...    technology  \n",
       "1  Microsoft Teams will stop working on Internet ...    technology  \n",
       "2  China, in response to reports of US adding Chi...    technology  \n",
       "3  The global smartphone sales in the third quart...    technology  \n",
       "4  The European Union (EU) is hoping that US Pres...    technology  "
      ]
     },
     "execution_count": 5,
     "metadata": {},
     "output_type": "execute_result"
    }
   ],
   "source": [
    "# lets concate all the news into one csv file and reset the indices\n",
    "news = pd.concat([news1, news2, news3, news4, news5, news6, news7], axis = 0).reset_index()\n",
    "news.head()"
   ]
  },
  {
   "cell_type": "markdown",
   "id": "dc7766e1-33b3-4374-b0dc-bebce2e54273",
   "metadata": {},
   "source": [
    "## Data Cleaning"
   ]
  },
  {
   "cell_type": "markdown",
   "id": "43ccdead-8f58-4fdd-a8e7-ed8d2e46ecd8",
   "metadata": {},
   "source": [
    "#### 1. Duplicates Removal"
   ]
  },
  {
   "cell_type": "code",
   "execution_count": 6,
   "id": "88f7268b-ea2f-46a6-93d8-f68f9f4ba8ee",
   "metadata": {},
   "outputs": [
    {
     "data": {
      "text/plain": [
       "409"
      ]
     },
     "execution_count": 6,
     "metadata": {},
     "output_type": "execute_result"
    }
   ],
   "source": [
    "# lets check whether duplicates are available or not\n",
    "news.duplicated().sum()"
   ]
  },
  {
   "cell_type": "code",
   "execution_count": 7,
   "id": "4f80df45-484d-431d-afb8-18572aa607fb",
   "metadata": {},
   "outputs": [],
   "source": [
    "# as we have 409 duplicated rows, lets remove these rows\n",
    "news.drop_duplicates(inplace=True)"
   ]
  },
  {
   "cell_type": "code",
   "execution_count": 8,
   "id": "be34c283-89d8-45c7-bd87-343f076ee1c8",
   "metadata": {},
   "outputs": [
    {
     "data": {
      "text/plain": [
       "0"
      ]
     },
     "execution_count": 8,
     "metadata": {},
     "output_type": "execute_result"
    }
   ],
   "source": [
    "# lets again check the number of duplicates available\n",
    "news.duplicated().sum()"
   ]
  },
  {
   "cell_type": "markdown",
   "id": "6b381b28-a291-40bf-831a-b655f5b47dbb",
   "metadata": {},
   "source": [
    "#### 2. Drop Unwanted Index Columns"
   ]
  },
  {
   "cell_type": "code",
   "execution_count": 9,
   "id": "f80ebab8-32be-4522-bd45-2f4c93c9f01e",
   "metadata": {},
   "outputs": [
    {
     "data": {
      "text/html": [
       "<div>\n",
       "<style scoped>\n",
       "    .dataframe tbody tr th:only-of-type {\n",
       "        vertical-align: middle;\n",
       "    }\n",
       "\n",
       "    .dataframe tbody tr th {\n",
       "        vertical-align: top;\n",
       "    }\n",
       "\n",
       "    .dataframe thead th {\n",
       "        text-align: right;\n",
       "    }\n",
       "</style>\n",
       "<table border=\"1\" class=\"dataframe\">\n",
       "  <thead>\n",
       "    <tr style=\"text-align: right;\">\n",
       "      <th></th>\n",
       "      <th>news_headline</th>\n",
       "      <th>news_article</th>\n",
       "      <th>news_category</th>\n",
       "    </tr>\n",
       "  </thead>\n",
       "  <tbody>\n",
       "    <tr>\n",
       "      <th>0</th>\n",
       "      <td>50-year-old problem of biology solved by Artif...</td>\n",
       "      <td>DeepMind's AI system 'AlphaFold' has been reco...</td>\n",
       "      <td>technology</td>\n",
       "    </tr>\n",
       "    <tr>\n",
       "      <th>1</th>\n",
       "      <td>Microsoft Teams to stop working on Internet Ex...</td>\n",
       "      <td>Microsoft Teams will stop working on Internet ...</td>\n",
       "      <td>technology</td>\n",
       "    </tr>\n",
       "    <tr>\n",
       "      <th>2</th>\n",
       "      <td>Hope US won't erect barriers to cooperation: C...</td>\n",
       "      <td>China, in response to reports of US adding Chi...</td>\n",
       "      <td>technology</td>\n",
       "    </tr>\n",
       "    <tr>\n",
       "      <th>3</th>\n",
       "      <td>Global smartphone sales in Q3 falls 5.7% to 36...</td>\n",
       "      <td>The global smartphone sales in the third quart...</td>\n",
       "      <td>technology</td>\n",
       "    </tr>\n",
       "    <tr>\n",
       "      <th>4</th>\n",
       "      <td>EU hoping Biden will clarify US position on di...</td>\n",
       "      <td>The European Union (EU) is hoping that US Pres...</td>\n",
       "      <td>technology</td>\n",
       "    </tr>\n",
       "  </tbody>\n",
       "</table>\n",
       "</div>"
      ],
      "text/plain": [
       "                                       news_headline  \\\n",
       "0  50-year-old problem of biology solved by Artif...   \n",
       "1  Microsoft Teams to stop working on Internet Ex...   \n",
       "2  Hope US won't erect barriers to cooperation: C...   \n",
       "3  Global smartphone sales in Q3 falls 5.7% to 36...   \n",
       "4  EU hoping Biden will clarify US position on di...   \n",
       "\n",
       "                                        news_article news_category  \n",
       "0  DeepMind's AI system 'AlphaFold' has been reco...    technology  \n",
       "1  Microsoft Teams will stop working on Internet ...    technology  \n",
       "2  China, in response to reports of US adding Chi...    technology  \n",
       "3  The global smartphone sales in the third quart...    technology  \n",
       "4  The European Union (EU) is hoping that US Pres...    technology  "
      ]
     },
     "execution_count": 9,
     "metadata": {},
     "output_type": "execute_result"
    }
   ],
   "source": [
    "# here we, have 2 unwanted Index columns namely: Index and Unnamed:0\n",
    "# lets drop these 2 columns\n",
    "news.drop(columns=['index', 'Unnamed: 0'], inplace=True)\n",
    "news.head()"
   ]
  },
  {
   "cell_type": "markdown",
   "id": "2cf77db4-3af9-4197-a9df-b372d377fbec",
   "metadata": {},
   "source": [
    "#### 3. Nulls Removal"
   ]
  },
  {
   "cell_type": "code",
   "execution_count": 10,
   "id": "f16f9a52-f388-4e3b-8398-66685e74b59b",
   "metadata": {},
   "outputs": [
    {
     "data": {
      "text/plain": [
       "news_headline    0\n",
       "news_article     0\n",
       "news_category    0\n",
       "dtype: int64"
      ]
     },
     "execution_count": 10,
     "metadata": {},
     "output_type": "execute_result"
    }
   ],
   "source": [
    "# lets check for the number of nulls\n",
    "news.isna().sum()"
   ]
  },
  {
   "cell_type": "markdown",
   "id": "16797c2b-9b8c-4cfe-adb9-fa446fd998d2",
   "metadata": {},
   "source": [
    "#### 4. Columns Information"
   ]
  },
  {
   "cell_type": "code",
   "execution_count": 11,
   "id": "84d61958-45d4-47dd-a77b-933bfa92d3e6",
   "metadata": {},
   "outputs": [
    {
     "name": "stdout",
     "output_type": "stream",
     "text": [
      "<class 'pandas.core.frame.DataFrame'>\n",
      "Index: 11711 entries, 0 to 12119\n",
      "Data columns (total 3 columns):\n",
      " #   Column         Non-Null Count  Dtype \n",
      "---  ------         --------------  ----- \n",
      " 0   news_headline  11711 non-null  object\n",
      " 1   news_article   11711 non-null  object\n",
      " 2   news_category  11711 non-null  object\n",
      "dtypes: object(3)\n",
      "memory usage: 366.0+ KB\n"
     ]
    }
   ],
   "source": [
    "# lets see the information about the columns in news dataframe\n",
    "news.info()"
   ]
  },
  {
   "cell_type": "markdown",
   "id": "78608da7-e81a-4b03-aeca-0b368c02aa38",
   "metadata": {},
   "source": [
    "## EDA"
   ]
  },
  {
   "cell_type": "code",
   "execution_count": 12,
   "id": "3b05e430-9d1d-4009-8c38-927c53c9ab4c",
   "metadata": {},
   "outputs": [
    {
     "data": {
      "image/png": "[encoded data removed]",
      "text/plain": [
       "<Figure size 1000x500 with 2 Axes>"
      ]
     },
     "metadata": {},
     "output_type": "display_data"
    }
   ],
   "source": [
    "# lets plot a count plot of news_category\n",
    "plt.subplots(1, 2, figsize = (10, 5))\n",
    "\n",
    "plt.subplot(1, 2, 1)\n",
    "sns.countplot(x = 'news_category', data = news, palette = 'Set1')\n",
    "plt.xticks(rotation = 45)\n",
    "\n",
    "plt.subplot(1, 2, 2)\n",
    "plt.pie(x = news['news_category'].value_counts(), labels=['world', 'entertainment', 'sports', 'technology', 'politics', 'science', 'automobile'],\n",
    "        autopct='%1.1f%%')\n",
    "\n",
    "plt.show()"
   ]
  },
  {
   "cell_type": "markdown",
   "id": "16fda817-a721-4451-b246-0ebf7ef3a443",
   "metadata": {},
   "source": [
    "## Data Preprocessing"
   ]
  },
  {
   "cell_type": "markdown",
   "id": "b292da59-01af-4ec7-8be4-816917c07f33",
   "metadata": {},
   "source": [
    "#### 1. Tokenization"
   ]
  },
  {
   "cell_type": "markdown",
   "id": "206404c3-5085-4d47-bb31-fda43bcfed87",
   "metadata": {},
   "source": [
    "#### 2. Stopwords Removal"
   ]
  },
  {
   "cell_type": "markdown",
   "id": "790e5655-a02f-41bf-bb7d-2fa0e4393f42",
   "metadata": {},
   "source": [
    "#### 3. Lemmatization"
   ]
  },
  {
   "cell_type": "markdown",
   "id": "0e3a352e-5d59-45c0-bc22-6e21e4b07074",
   "metadata": {},
   "source": [
    "#### 4. Punctuations removal"
   ]
  },
  {
   "cell_type": "code",
   "execution_count": 13,
   "id": "0ae6d407-c306-4ba0-8dd6-9f60ae98bb6a",
   "metadata": {},
   "outputs": [],
   "source": [
    "# lets import string to remove punctuations\n",
    "import string\n",
    "import re\n",
    "from nltk.stem import PorterStemmer as ps\n",
    "from nltk.corpus import stopwords\n",
    "from nltk.tokenize import word_tokenize, sent_tokenize\n",
    "from sklearn.compose import ColumnTransformer\n",
    "from sklearn.preprocessing import FunctionTransformer, LabelEncoder\n",
    "from sklearn.feature_extraction.text import CountVectorizer, TfidfVectorizer\n",
    "from sklearn.model_selection import train_test_split\n",
    "\n",
    "\n",
    "# word_tokenize --> lowercase --> punctuation removal --> numbers removal --> stemming\n",
    "def trf(text):\n",
    "    txt = \"\".join([i for i in text if i.lower() not in string.punctuation])\n",
    "    tokens = word_tokenize(txt)\n",
    "    txt = [ps().stem(token) for token in tokens if token not in stopwords.words('english') and not re.match(r'^[0-9]', token)]\n",
    "    return tokens\n",
    "\n",
    "# lets create a column transformer to transform all columns\n",
    "ct = ColumnTransformer(transformers=[('cv', CountVectorizer(analyzer= trf, max_features=4000), 'news_headline'),\n",
    "                                     ('tfidf', CountVectorizer(analyzer=trf, max_features=4000), 'news_article'),\n",
    "                                    ], remainder='passthrough', sparse_threshold = 0)\n",
    "\n",
    "# lets encode the labels or targets\n",
    "news['labels'] = LabelEncoder().fit_transform(news['news_category'])\n",
    "\n",
    "# lets split the data samples into train and test samples\n",
    "X_train, X_test, y_train, y_test = train_test_split(news[['news_headline', 'news_article']], news[['labels']], test_size=0.2, random_state=70)\n"
   ]
  },
  {
   "cell_type": "markdown",
   "id": "671a3b04-6cf4-45e9-98cf-c0c730a953c1",
   "metadata": {},
   "source": [
    "## Pipelines"
   ]
  },
  {
   "cell_type": "code",
   "execution_count": 14,
   "id": "7931adc1-76c3-4bfc-9b41-053c772b358e",
   "metadata": {},
   "outputs": [],
   "source": [
    "# lets import all the models\n",
    "from sklearn.naive_bayes import GaussianNB, MultinomialNB, CategoricalNB, ComplementNB, BernoulliNB\n",
    "from sklearn.pipeline import Pipeline\n",
    "\n",
    "# lets create a dictionary of classifier\n",
    "classifiers = {\n",
    "    'gnb': Pipeline([('trf', ct), ('clf', GaussianNB())]),\n",
    "    'mnb': Pipeline([('trf', ct), ('clf', MultinomialNB())]),\n",
    "}"
   ]
  },
  {
   "cell_type": "markdown",
   "id": "38eef98b-b0dc-443d-a657-211c8a8ec8c9",
   "metadata": {},
   "source": [
    "## Train and Evaluation of the models"
   ]
  },
  {
   "cell_type": "code",
   "execution_count": 15,
   "id": "bf887334-eeb3-49ab-80db-eac235ef4c87",
   "metadata": {},
   "outputs": [],
   "source": [
    "# lets create a dataframe for showing the accuracy and precision of all the model\n",
    "scores = pd.DataFrame(index = classifiers.keys())"
   ]
  },
  {
   "cell_type": "code",
   "execution_count": 16,
   "id": "18e8ff0a-0e1e-486d-bef1-21592958a783",
   "metadata": {},
   "outputs": [
    {
     "name": "stderr",
     "output_type": "stream",
     "text": [
      "C:\\Users\\Madhavz\\anaconda3\\Lib\\site-packages\\sklearn\\utils\\validation.py:1143: DataConversionWarning: A column-vector y was passed when a 1d array was expected. Please change the shape of y to (n_samples, ), for example using ravel().\n",
      "  y = column_or_1d(y, warn=True)\n"
     ]
    },
    {
     "name": "stdout",
     "output_type": "stream",
     "text": [
      "model gnb is trained...\n"
     ]
    },
    {
     "name": "stderr",
     "output_type": "stream",
     "text": [
      "C:\\Users\\Madhavz\\anaconda3\\Lib\\site-packages\\sklearn\\utils\\validation.py:1143: DataConversionWarning: A column-vector y was passed when a 1d array was expected. Please change the shape of y to (n_samples, ), for example using ravel().\n",
      "  y = column_or_1d(y, warn=True)\n"
     ]
    },
    {
     "name": "stdout",
     "output_type": "stream",
     "text": [
      "model mnb is trained...\n"
     ]
    }
   ],
   "source": [
    "# lets import the metrics for evaluating\n",
    "from sklearn.metrics import accuracy_score, precision_score\n",
    "\n",
    "# lets train and evaluate all the models\n",
    "for i in classifiers.keys():\n",
    "    classifiers[i].fit(X_train, y_train)\n",
    "    print(f'model {i} is trained...')\n",
    "    y = pd.DataFrame(classifiers[i].predict(X_test))\n",
    "    scores.loc[i, 'accuracy_mf_3k'] = accuracy_score(y_test, y)\n",
    "    scores.loc[i, 'precision_mf_3k'] = precision_score(y_test, y, average='micro')"
   ]
  },
  {
   "cell_type": "code",
   "execution_count": 18,
   "id": "e1aafcb0-4b85-4fd7-bc04-8b3a79b68099",
   "metadata": {},
   "outputs": [
    {
     "data": {
      "text/html": [
       "<div>\n",
       "<style scoped>\n",
       "    .dataframe tbody tr th:only-of-type {\n",
       "        vertical-align: middle;\n",
       "    }\n",
       "\n",
       "    .dataframe tbody tr th {\n",
       "        vertical-align: top;\n",
       "    }\n",
       "\n",
       "    .dataframe thead th {\n",
       "        text-align: right;\n",
       "    }\n",
       "</style>\n",
       "<table border=\"1\" class=\"dataframe\">\n",
       "  <thead>\n",
       "    <tr style=\"text-align: right;\">\n",
       "      <th></th>\n",
       "      <th>accuracy_mf_4k</th>\n",
       "      <th>precision_mf_4k</th>\n",
       "    </tr>\n",
       "  </thead>\n",
       "  <tbody>\n",
       "    <tr>\n",
       "      <th>gnb</th>\n",
       "      <td>0.923175</td>\n",
       "      <td>0.923175</td>\n",
       "    </tr>\n",
       "    <tr>\n",
       "      <th>mnb</th>\n",
       "      <td>0.909945</td>\n",
       "      <td>0.909945</td>\n",
       "    </tr>\n",
       "  </tbody>\n",
       "</table>\n",
       "</div>"
      ],
      "text/plain": [
       "     accuracy_mf_4k  precision_mf_4k\n",
       "gnb        0.923175         0.923175\n",
       "mnb        0.909945         0.909945"
      ]
     },
     "execution_count": 18,
     "metadata": {},
     "output_type": "execute_result"
    }
   ],
   "source": [
    "scores.rename(columns = {'accuracy_mf_3k': 'accuracy_mf_4k', 'precision_mf_3k': 'precision_mf_4k'})"
   ]
  },
  {
   "cell_type": "markdown",
   "id": "c61e5ede-2b70-4ed2-ba7b-31b817434e1f",
   "metadata": {},
   "source": [
    "## Classification"
   ]
  },
  {
   "cell_type": "code",
   "execution_count": 29,
   "id": "95a43e7c-a23a-44f5-af4f-ff1a23cd369f",
   "metadata": {},
   "outputs": [
    {
     "data": {
      "text/html": [
       "<div>\n",
       "<style scoped>\n",
       "    .dataframe tbody tr th:only-of-type {\n",
       "        vertical-align: middle;\n",
       "    }\n",
       "\n",
       "    .dataframe tbody tr th {\n",
       "        vertical-align: top;\n",
       "    }\n",
       "\n",
       "    .dataframe thead th {\n",
       "        text-align: right;\n",
       "    }\n",
       "</style>\n",
       "<table border=\"1\" class=\"dataframe\">\n",
       "  <thead>\n",
       "    <tr style=\"text-align: right;\">\n",
       "      <th></th>\n",
       "      <th>news_headline</th>\n",
       "      <th>news_article</th>\n",
       "      <th>news_category</th>\n",
       "      <th>labels</th>\n",
       "    </tr>\n",
       "  </thead>\n",
       "  <tbody>\n",
       "    <tr>\n",
       "      <th>4705</th>\n",
       "      <td>Mink mass graves in Denmark might contaminate ...</td>\n",
       "      <td>A study commissioned by Denmark's Environmenta...</td>\n",
       "      <td>world</td>\n",
       "      <td>6</td>\n",
       "    </tr>\n",
       "    <tr>\n",
       "      <th>9949</th>\n",
       "      <td>Central government should withdraw farm laws n...</td>\n",
       "      <td>Former UP CM Akhilesh Yadav on Tuesday said th...</td>\n",
       "      <td>politics</td>\n",
       "      <td>2</td>\n",
       "    </tr>\n",
       "    <tr>\n",
       "      <th>2847</th>\n",
       "      <td>12 Indian celebrities feature in Forbes Asia's...</td>\n",
       "      <td>Twelve Indian celebrities have made it to Forb...</td>\n",
       "      <td>entertainment</td>\n",
       "      <td>1</td>\n",
       "    </tr>\n",
       "    <tr>\n",
       "      <th>8702</th>\n",
       "      <td>BLM protesters would have been treated differe...</td>\n",
       "      <td>US President-elect Joe Biden has said, \"No one...</td>\n",
       "      <td>world</td>\n",
       "      <td>6</td>\n",
       "    </tr>\n",
       "    <tr>\n",
       "      <th>1085</th>\n",
       "      <td>Emissions hit new high, world heading for temp...</td>\n",
       "      <td>Greenhouse gas emissions reached a new high la...</td>\n",
       "      <td>science</td>\n",
       "      <td>3</td>\n",
       "    </tr>\n",
       "  </tbody>\n",
       "</table>\n",
       "</div>"
      ],
      "text/plain": [
       "                                          news_headline  \\\n",
       "4705  Mink mass graves in Denmark might contaminate ...   \n",
       "9949  Central government should withdraw farm laws n...   \n",
       "2847  12 Indian celebrities feature in Forbes Asia's...   \n",
       "8702  BLM protesters would have been treated differe...   \n",
       "1085  Emissions hit new high, world heading for temp...   \n",
       "\n",
       "                                           news_article  news_category  labels  \n",
       "4705  A study commissioned by Denmark's Environmenta...          world       6  \n",
       "9949  Former UP CM Akhilesh Yadav on Tuesday said th...       politics       2  \n",
       "2847  Twelve Indian celebrities have made it to Forb...  entertainment       1  \n",
       "8702  US President-elect Joe Biden has said, \"No one...          world       6  \n",
       "1085  Greenhouse gas emissions reached a new high la...        science       3  "
      ]
     },
     "execution_count": 29,
     "metadata": {},
     "output_type": "execute_result"
    }
   ],
   "source": [
    "# lets get some samples which will be used to classify\n",
    "samples = news.sample(5)\n",
    "samples"
   ]
  },
  {
   "cell_type": "code",
   "execution_count": 30,
   "id": "5f173311-2179-415c-902c-228f3da9e253",
   "metadata": {},
   "outputs": [
    {
     "data": {
      "text/plain": [
       "array([6, 2, 1, 6, 3])"
      ]
     },
     "execution_count": 30,
     "metadata": {},
     "output_type": "execute_result"
    }
   ],
   "source": [
    "# lets use one of our trained models to classify\n",
    "\n",
    "classifiers['gnb'].predict(samples)"
   ]
  },
  {
   "cell_type": "code",
   "execution_count": 31,
   "id": "352a95aa-618d-466d-888e-9495159ef339",
   "metadata": {},
   "outputs": [
    {
     "data": {
      "text/plain": [
       "array([6, 2, 1, 6, 3])"
      ]
     },
     "execution_count": 31,
     "metadata": {},
     "output_type": "execute_result"
    }
   ],
   "source": [
    "# you can see above our predication is accurate\n",
    "\n",
    "# lets use another model\n",
    "classifiers['mnb'].predict(samples)"
   ]
  },
  {
   "cell_type": "code",
   "execution_count": null,
   "id": "787bb717-5fe3-4877-964f-6557fc58d28c",
   "metadata": {},
   "outputs": [],
   "source": []
  }
 ],
 "metadata": {
  "kernelspec": {
   "display_name": "Python 3 (ipykernel)",
   "language": "python",
   "name": "python3"
  },
  "language_info": {
   "codemirror_mode": {
    "name": "ipython",
    "version": 3
   },
   "file_extension": ".py",
   "mimetype": "text/x-python",
   "name": "python",
   "nbconvert_exporter": "python",
   "pygments_lexer": "ipython3",
   "version": "3.11.7"
  }
 },
 "nbformat": 4,
 "nbformat_minor": 5
}
